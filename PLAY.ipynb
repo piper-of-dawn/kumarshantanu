{
 "cells": [
  {
   "cell_type": "code",
   "execution_count": null,
   "metadata": {},
   "outputs": [],
   "source": [
    "# Write a regular expression to match string enclosed between $ and $ into a list\n",
    "\n",
    "import re\n",
    "pattern = re.findall(r'\\$\\w+\\$')\n",
    "\n"
   ]
  },
  {
   "cell_type": "code",
   "execution_count": 44,
   "metadata": {},
   "outputs": [],
   "source": [
    "# I have a following dictionary\n",
    "\n",
    "d = {\n",
    "  \"root\":{\n",
    "  \"key1\": \n",
    "    {\"subkey11\": \"value11\",\n",
    "     \"subkey12\": \"value12\",\n",
    "     \"subkey13\": \"value13\"},\n",
    "  \"key2\": \n",
    "    {\"subkey21\": \"subkey211\",\n",
    "     \"subkey22\": \"value22\",\n",
    "     \"subkey23\": \"value23\"},\n",
    "    \"key3\": \"value3\"\n",
    "  }\n",
    "}\n",
    "\n",
    "# I want a list comprehension that will return a list of dictionaries with the following structure\n",
    "\n",
    "out = [{\n",
    "  \"parent\": \"root\",\n",
    "  \"children\": [\"key1\", \"key2\"],\n",
    "},\n",
    " {\n",
    "   \"parent\": \"key1\",\n",
    "   \"children\": [\"subkey21\", \"subkey22\", \"subkey23\"],\n",
    " }\n",
    "]\n",
    "\n",
    "# and so on..\n",
    "\n",
    "def flatten_list(func):\n",
    "  def wrapper(*args, **kwargs):\n",
    "    lst = func(*args, **kwargs)\n",
    "    flatten = lambda lst: [i for sublist in lst for i in (flatten(sublist) if type(sublist) == list else [sublist])]\n",
    "    return flatten(lst)\n",
    "  return wrapper\n",
    "\n",
    "\n",
    "\n",
    "@timeit\n",
    "@flatten_list \n",
    "def getChildrenChallenger(input_dict: dict) -> list:\n",
    "    return [{\"parent\": key, \"children\": tuple(input_dict.get(key).keys())} if isinstance(input_dict.get(key), dict) and input_dict.get(key) != {} else {\"parent\": key, \"children\": value} for key,value in input_dict.items()]+[getChildrenChallenger(input_dict.get(key)) for key,value in input_dict.items() if isinstance(input_dict.get(key), dict) and input_dict.get(key) != {}]\n",
    " "
   ]
  },
  {
   "cell_type": "code",
   "execution_count": 49,
   "metadata": {},
   "outputs": [],
   "source": [
    "@timeit\n",
    "def getChildren (input_dict: dict, lst:list=[]) -> list:\n",
    "  \"\"\"This code is used to get the children of a dictionary. It takes in a dictionary as input and returns a list. The list contains the children of the dictionary. The code loops through the dictionary and if the value of the key is a dictionary, then it recursively calls the same function on the dictionary. This is done to get the children of the dictionary. If the value of the key is not a dictionary, then it is added to the list.\"\"\"  \n",
    "  for key,value in input_dict.items():\n",
    "    if isinstance(value, dict):\n",
    "      lst.append({\"parent\": key, \"children\": tuple(value.keys())})\n",
    "      getChildren(value, lst)\n",
    "    else:\n",
    "      lst.append({\"parent\": key, \"children\": value})\n",
    "  return lst"
   ]
  },
  {
   "cell_type": "code",
   "execution_count": null,
   "metadata": {},
   "outputs": [],
   "source": []
  },
  {
   "cell_type": "code",
   "execution_count": 50,
   "metadata": {},
   "outputs": [
    {
     "name": "stdout",
     "output_type": "stream",
     "text": [
      "Function getChildren took 0.000001800 seconds\n",
      "Function getChildren took 0.000002800 seconds\n",
      "Function getChildren took 0.000066400 seconds\n",
      "Function getChildren took 0.000072100 seconds\n"
     ]
    },
    {
     "data": {
      "text/plain": [
       "[{'parent': 'root', 'children': ('key1', 'key2', 'key3')},\n",
       " {'parent': 'key1', 'children': ('subkey11', 'subkey12', 'subkey13')},\n",
       " {'parent': 'subkey11', 'children': 'value11'},\n",
       " {'parent': 'subkey12', 'children': 'value12'},\n",
       " {'parent': 'subkey13', 'children': 'value13'},\n",
       " {'parent': 'key2', 'children': ('subkey21', 'subkey22', 'subkey23')},\n",
       " {'parent': 'subkey21', 'children': 'subkey211'},\n",
       " {'parent': 'subkey22', 'children': 'value22'},\n",
       " {'parent': 'subkey23', 'children': 'value23'},\n",
       " {'parent': 'key3', 'children': 'value3'}]"
      ]
     },
     "execution_count": 50,
     "metadata": {},
     "output_type": "execute_result"
    }
   ],
   "source": [
    "getChildren(d)"
   ]
  },
  {
   "cell_type": "code",
   "execution_count": 38,
   "metadata": {},
   "outputs": [
    {
     "name": "stdout",
     "output_type": "stream",
     "text": [
      "Function wrapper took 0.000005800 seconds\n",
      "Function wrapper took 0.000003700 seconds\n",
      "Function wrapper took 0.000059100 seconds\n",
      "Function wrapper took 0.000079000 seconds\n"
     ]
    },
    {
     "data": {
      "text/plain": [
       "[{'parent': 'root', 'children': ('key1', 'key2', 'key3')},\n",
       " {'parent': 'key1', 'children': ('subkey11', 'subkey12', 'subkey13')},\n",
       " {'parent': 'key2', 'children': ('subkey21', 'subkey22', 'subkey23')},\n",
       " {'parent': 'key3', 'children': 'value3'},\n",
       " {'parent': 'subkey11', 'children': 'value11'},\n",
       " {'parent': 'subkey12', 'children': 'value12'},\n",
       " {'parent': 'subkey13', 'children': 'value13'},\n",
       " {'parent': 'subkey21', 'children': 'subkey211'},\n",
       " {'parent': 'subkey22', 'children': 'value22'},\n",
       " {'parent': 'subkey23', 'children': 'value23'}]"
      ]
     },
     "execution_count": 38,
     "metadata": {},
     "output_type": "execute_result"
    }
   ],
   "source": [
    "getChildrenChallenger(d)"
   ]
  },
  {
   "cell_type": "code",
   "execution_count": 134,
   "metadata": {},
   "outputs": [],
   "source": [
    "# Create 5 test cases with nested dictionaries for the getChildren function\n",
    "# Test case 1: Empty dictionary\n",
    "# Test case 2: Dictionary with one level\n",
    "# Test case 3: Dictionary with two levels\n",
    "# Test case 4: Dictionary with three levels and empty keys\n",
    "# Test case 5: Dictionary with three levels and non-empty keys\n",
    "\n",
    "testCases = [\n",
    "    {},\n",
    "    {\"root\": {\"key1\": \"value1\", \"key2\": \"value2\"}},\n",
    "    {\"root\": {\"key1\": {\"subkey11\": \"value11\", \"subkey12\": \"value12\", \"subkey13\": \"value13\"}, \"key2\": {\"subkey21\": \"subkey211\", \"subkey22\": \"value22\", \"subkey23\": \"value23\"}}},\n",
    "    {\"root\": {\"key1\": {\"subkey11\": \"value11\", \"subkey12\": \"value12\", \"subkey13\": \"value13\"}, \"key2\": {\"subkey21\": \"subkey211\", \"subkey22\": \"value22\", \"subkey23\": {\"subkey231\": \"value231\", \"subkey232\": \"value232\"},\"subkey24\": {}}}},\n",
    "    {\"root\": {\"key1\": {\"subkey11\": \"value11\", \"subkey12\": \"value12\", \"subkey13\": \"value13\"}, \"key2\": {\"subkey21\": \"subkey211\", \"subkey22\": \"value22\", \"subkey23\": {\"subkey231\": \"value231\", \"subkey232\": \"value232\"},\"subkey24\": {\"subkey241\": \"value241\", \"subkey242\": \"value242\"}}}},\n",
    "]\n",
    "\n",
    "    \n",
    "  \n",
    "\n"
   ]
  },
  {
   "cell_type": "code",
   "execution_count": null,
   "metadata": {},
   "outputs": [],
   "source": [
    "getChildrenv1"
   ]
  },
  {
   "cell_type": "code",
   "execution_count": 135,
   "metadata": {},
   "outputs": [
    {
     "name": "stdout",
     "output_type": "stream",
     "text": [
      "[]\n",
      "[{'parent': 'root', 'children': ('key1', 'key2')}, {'parent': 'key1', 'children': 'value1'}, {'parent': 'key2', 'children': 'value2'}]\n",
      "[{'parent': 'root', 'children': ('key1', 'key2')}, {'parent': 'key1', 'children': ('subkey11', 'subkey12', 'subkey13')}, {'parent': 'key2', 'children': ('subkey21', 'subkey22', 'subkey23')}, {'parent': 'subkey11', 'children': 'value11'}, {'parent': 'subkey12', 'children': 'value12'}, {'parent': 'subkey13', 'children': 'value13'}, {'parent': 'subkey21', 'children': 'subkey211'}, {'parent': 'subkey22', 'children': 'value22'}, {'parent': 'subkey23', 'children': 'value23'}]\n",
      "[{'parent': 'root', 'children': ('key1', 'key2')}, {'parent': 'key1', 'children': ('subkey11', 'subkey12', 'subkey13')}, {'parent': 'key2', 'children': ('subkey21', 'subkey22', 'subkey23', 'subkey24')}, {'parent': 'subkey11', 'children': 'value11'}, {'parent': 'subkey12', 'children': 'value12'}, {'parent': 'subkey13', 'children': 'value13'}, {'parent': 'subkey21', 'children': 'subkey211'}, {'parent': 'subkey22', 'children': 'value22'}, {'parent': 'subkey23', 'children': ('subkey231', 'subkey232')}, {'parent': 'subkey24', 'children': {}}, {'parent': 'subkey231', 'children': 'value231'}, {'parent': 'subkey232', 'children': 'value232'}]\n",
      "[{'parent': 'root', 'children': ('key1', 'key2')}, {'parent': 'key1', 'children': ('subkey11', 'subkey12', 'subkey13')}, {'parent': 'key2', 'children': ('subkey21', 'subkey22', 'subkey23', 'subkey24')}, {'parent': 'subkey11', 'children': 'value11'}, {'parent': 'subkey12', 'children': 'value12'}, {'parent': 'subkey13', 'children': 'value13'}, {'parent': 'subkey21', 'children': 'subkey211'}, {'parent': 'subkey22', 'children': 'value22'}, {'parent': 'subkey23', 'children': ('subkey231', 'subkey232')}, {'parent': 'subkey24', 'children': ('subkey241', 'subkey242')}, {'parent': 'subkey231', 'children': 'value231'}, {'parent': 'subkey232', 'children': 'value232'}, {'parent': 'subkey241', 'children': 'value241'}, {'parent': 'subkey242', 'children': 'value242'}]\n"
     ]
    }
   ],
   "source": [
    "for case in testCases:\n",
    "    print(getChildren(case))"
   ]
  },
  {
   "cell_type": "code",
   "execution_count": null,
   "metadata": {},
   "outputs": [],
   "source": []
  },
  {
   "cell_type": "code",
   "execution_count": null,
   "metadata": {},
   "outputs": [],
   "source": [
    "[{\"parent\": key, \"children\": tuple(d.get(key).keys())}"
   ]
  },
  {
   "cell_type": "code",
   "execution_count": 75,
   "metadata": {},
   "outputs": [],
   "source": [
    "def convertTreetoList(d):\n",
    "  list = [{'parent': 'root', 'children': tuple(d.get('root').keys())}]\n",
    "  for key, value in d.items():\n",
    "      list += getChildren(value)\n",
    "  return list"
   ]
  },
  {
   "cell_type": "code",
   "execution_count": 78,
   "metadata": {},
   "outputs": [
    {
     "data": {
      "text/plain": [
       "[{'parent': 'root', 'children': ('key1', 'key2', 'key3')},\n",
       " [{'parent': 'key1', 'children': ('subkey11', 'subkey12', 'subkey13')},\n",
       "  {'parent': 'key2', 'children': ('subkey21', 'subkey22', 'subkey23')},\n",
       "  {'parent': 'key3', 'children': 'value3'},\n",
       "  [{'parent': 'subkey11', 'children': 'value11'},\n",
       "   {'parent': 'subkey12', 'children': 'value12'},\n",
       "   {'parent': 'subkey13', 'children': 'value13'}],\n",
       "  [{'parent': 'subkey21', 'children': 'value21'},\n",
       "   {'parent': 'subkey22', 'children': 'value22'},\n",
       "   {'parent': 'subkey23', 'children': 'value23'}]]]"
      ]
     },
     "execution_count": 78,
     "metadata": {},
     "output_type": "execute_result"
    }
   ],
   "source": [
    "getChildren(d)"
   ]
  },
  {
   "cell_type": "code",
   "execution_count": 76,
   "metadata": {},
   "outputs": [
    {
     "data": {
      "text/plain": [
       "[{'parent': 'root', 'children': ('key1', 'key2', 'key3')},\n",
       " {'parent': 'key1', 'children': ('subkey11', 'subkey12', 'subkey13')},\n",
       " {'parent': 'key2', 'children': ('subkey21', 'subkey22', 'subkey23')},\n",
       " {'parent': 'key3', 'children': 'value3'}]"
      ]
     },
     "execution_count": 76,
     "metadata": {},
     "output_type": "execute_result"
    }
   ],
   "source": [
    "convertTreetoList(d)"
   ]
  },
  {
   "cell_type": "code",
   "execution_count": 32,
   "metadata": {},
   "outputs": [],
   "source": [
    "# Recursively get all parent nodes and child nodes in the dictionary\n",
    "\n",
    "\n",
    "def convertTreetoList(d, parent=None):\n",
    "    return [{\"parent\": parent, \"children\": tuple(d.keys())} if isinstance(d, dict) and d != {} else {\"parent\": parent, \"children\": d}] + \\\n",
    "           [item for k, v in d.items() for item in convertTreetoList(v, k) if isinstance(v, dict)]"
   ]
  },
  {
   "cell_type": "code",
   "execution_count": 99,
   "metadata": {},
   "outputs": [],
   "source": [
    "# Create a dummy 5 level nested dictionary \n",
    "\n",
    "nested_dict = {\n",
    "    \"root\": {\n",
    "        \"key1\": {\n",
    "            \"subkey11\": {\n",
    "                \"subsubkey111\": \"value111\",\n",
    "                \"subsubkey112\": \"value112\",\n",
    "                \"subsubkey113\": {\n",
    "                    \"subsubsubkey1131\": \"value1131\",\n",
    "                }\n",
    "            },\n",
    "        },\n",
    "    }           \n",
    "}"
   ]
  },
  {
   "cell_type": "code",
   "execution_count": 102,
   "metadata": {},
   "outputs": [],
   "source": []
  },
  {
   "cell_type": "code",
   "execution_count": 103,
   "metadata": {},
   "outputs": [
    {
     "data": {
      "text/plain": [
       "[{'parent': 'root', 'children': ('key1',)},\n",
       " {'parent': 'key1', 'children': ('subkey11',)},\n",
       " {'parent': 'subkey11',\n",
       "  'children': ('subsubkey111', 'subsubkey112', 'subsubkey113')},\n",
       " {'parent': 'subsubkey111', 'children': 'value111'},\n",
       " {'parent': 'subsubkey112', 'children': 'value112'},\n",
       " {'parent': 'subsubkey113', 'children': ('subsubsubkey1131',)},\n",
       " {'parent': 'subsubsubkey1131', 'children': 'value1131'}]"
      ]
     },
     "execution_count": 103,
     "metadata": {},
     "output_type": "execute_result"
    }
   ],
   "source": [
    "flatten_list(getChildren(nested_dict))"
   ]
  },
  {
   "cell_type": "code",
   "execution_count": 105,
   "metadata": {},
   "outputs": [
    {
     "data": {
      "text/html": [
       "<div>\n",
       "<style scoped>\n",
       "    .dataframe tbody tr th:only-of-type {\n",
       "        vertical-align: middle;\n",
       "    }\n",
       "\n",
       "    .dataframe tbody tr th {\n",
       "        vertical-align: top;\n",
       "    }\n",
       "\n",
       "    .dataframe thead th {\n",
       "        text-align: right;\n",
       "    }\n",
       "</style>\n",
       "<table border=\"1\" class=\"dataframe\">\n",
       "  <thead>\n",
       "    <tr style=\"text-align: right;\">\n",
       "      <th></th>\n",
       "      <th>parent</th>\n",
       "      <th>children</th>\n",
       "    </tr>\n",
       "  </thead>\n",
       "  <tbody>\n",
       "    <tr>\n",
       "      <th>0</th>\n",
       "      <td>root</td>\n",
       "      <td>(key1,)</td>\n",
       "    </tr>\n",
       "    <tr>\n",
       "      <th>1</th>\n",
       "      <td>key1</td>\n",
       "      <td>(subkey11,)</td>\n",
       "    </tr>\n",
       "    <tr>\n",
       "      <th>2</th>\n",
       "      <td>subkey11</td>\n",
       "      <td>(subsubkey111, subsubkey112, subsubkey113)</td>\n",
       "    </tr>\n",
       "    <tr>\n",
       "      <th>3</th>\n",
       "      <td>subsubkey111</td>\n",
       "      <td>value111</td>\n",
       "    </tr>\n",
       "    <tr>\n",
       "      <th>4</th>\n",
       "      <td>subsubkey112</td>\n",
       "      <td>value112</td>\n",
       "    </tr>\n",
       "    <tr>\n",
       "      <th>5</th>\n",
       "      <td>subsubkey113</td>\n",
       "      <td>(subsubsubkey1131,)</td>\n",
       "    </tr>\n",
       "    <tr>\n",
       "      <th>6</th>\n",
       "      <td>subsubsubkey1131</td>\n",
       "      <td>value1131</td>\n",
       "    </tr>\n",
       "  </tbody>\n",
       "</table>\n",
       "</div>"
      ],
      "text/plain": [
       "             parent                                    children\n",
       "0              root                                     (key1,)\n",
       "1              key1                                 (subkey11,)\n",
       "2          subkey11  (subsubkey111, subsubkey112, subsubkey113)\n",
       "3      subsubkey111                                    value111\n",
       "4      subsubkey112                                    value112\n",
       "5      subsubkey113                         (subsubsubkey1131,)\n",
       "6  subsubsubkey1131                                   value1131"
      ]
     },
     "execution_count": 105,
     "metadata": {},
     "output_type": "execute_result"
    }
   ],
   "source": [
    "import pandas as pd \n",
    "pd.DataFrame(flatten_list(getChildren(nested_dict)))"
   ]
  },
  {
   "cell_type": "code",
   "execution_count": 6,
   "metadata": {},
   "outputs": [],
   "source": [
    "def get_children(d, parent=None):\n",
    "    children = []\n",
    "    for k, v in d.items():\n",
    "        if isinstance(v, dict):\n",
    "            children.append({\"parent\": parent if parent else k, \"children\": [i for i in v.keys()]})\n",
    "            children.extend(get_children(v, parent=k))\n",
    "    return children\n",
    "\n",
    "out = get_children(d)\n"
   ]
  },
  {
   "cell_type": "code",
   "execution_count": 7,
   "metadata": {},
   "outputs": [
    {
     "data": {
      "text/plain": [
       "[{'parent': 'root', 'children': ['key1', 'key2']},\n",
       " {'parent': 'root', 'children': ['subkey11', 'subkey12', 'subkey13']},\n",
       " {'parent': 'root', 'children': ['subkey21', 'subkey22', 'subkey23']}]"
      ]
     },
     "execution_count": 7,
     "metadata": {},
     "output_type": "execute_result"
    }
   ],
   "source": [
    "out"
   ]
  },
  {
   "cell_type": "code",
   "execution_count": null,
   "metadata": {},
   "outputs": [],
   "source": []
  }
 ],
 "metadata": {
  "kernelspec": {
   "display_name": "Python 3.11.0 64-bit",
   "language": "python",
   "name": "python3"
  },
  "language_info": {
   "codemirror_mode": {
    "name": "ipython",
    "version": 3
   },
   "file_extension": ".py",
   "mimetype": "text/x-python",
   "name": "python",
   "nbconvert_exporter": "python",
   "pygments_lexer": "ipython3",
   "version": "3.11.0"
  },
  "orig_nbformat": 4,
  "vscode": {
   "interpreter": {
    "hash": "41cec28fd681075328d5c3ce57c3e36d2e28950cd4b5df3e126fcfc4cca87be8"
   }
  }
 },
 "nbformat": 4,
 "nbformat_minor": 2
}
