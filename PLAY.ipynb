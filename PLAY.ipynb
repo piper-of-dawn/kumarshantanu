{
 "cells": [
  {
   "cell_type": "code",
   "execution_count": 2,
   "metadata": {},
   "outputs": [],
   "source": [
    "import pandas as pd\n",
    "import yaml\n",
    "def get_yaml_data(yaml_path):\n",
    "  def get_data(yaml_file):\n",
    "    prepData = dict()\n",
    "    for key in yaml_file.keys():\n",
    "      for keys, val in yaml_file.get(key).items():\n",
    "       print (\"Sourcing file: %s\" % (val))\n",
    "    prepData[keys] = pd.read_csv(val) #fread(vat, sep = \", \")\n",
    "    return prepData\n",
    "  with open(yaml_path, 'r') as stream:\n",
    "    try:  \n",
    "      yaml_file = yaml.safe_load(stream)  \n",
    "    except yaml.YAMLError as exc:\n",
    "      print (exc)\n",
    "  prepData = get_data(yaml_file)\n",
    "  return prepData"
   ]
  },
  {
   "cell_type": "code",
   "execution_count": 1,
   "metadata": {},
   "outputs": [
    {
     "name": "stdout",
     "output_type": "stream",
     "text": [
      "Collecting datatable\n",
      "  Using cached datatable-1.0.0.tar.gz (1.1 MB)\n",
      "  Getting requirements to build wheel: started\n",
      "  Getting requirements to build wheel: finished with status 'done'\n",
      "  Preparing metadata (pyproject.toml): started\n",
      "  Preparing metadata (pyproject.toml): finished with status 'error'\n"
     ]
    },
    {
     "name": "stderr",
     "output_type": "stream",
     "text": [
      "  error: subprocess-exited-with-error\n",
      "  \n",
      "  × Preparing metadata (pyproject.toml) did not run successfully.\n",
      "  │ exit code: 1\n",
      "  ╰─> [31 lines of output]\n",
      "      \u001b[90mBuilding extension \u001b[1;97m_datatable\u001b[0;90m\u001b[m\n",
      "      \u001b[90mBuild directory = 'build\\\\build'\u001b[m\n",
      "      \u001b[90mCreated directory 'build\\\\build'\u001b[m\n",
      "      \u001b[90mDestination directory = 'src\\\\datatable\\\\lib'\u001b[m\n",
      "      \u001b[90mAdded 309 source files from pattern \u001b[1;97msrc/core/**/*.cc\u001b[0;90m: ['src\\\\core\\\\api.cc', 'src\\\\core\\\\buffer.cc', 'src\\\\core\\\\call_logger.cc', 'src\\\\core\\\\column.cc', 'src\\\\core\\\\column_from_arrow.cc', 'src\\\\core\\\\column_from_python.cc', 'src\\\\core\\\\cstring.cc', 'src\\\\core\\\\datatable.cc', 'src\\\\core\\\\datatablemodule.cc', 'src\\\\core\\\\encodings.cc', 'src\\\\core\\\\groupby.cc', 'src\\\\core\\\\ltype.cc', 'src\\\\core\\\\mmm.cc', 'src\\\\core\\\\options.cc', 'src\\\\core\\\\py_buffers.cc', 'src\\\\core\\\\py_encodings.cc', 'src\\\\core\\\\rowindex.cc', 'src\\\\core\\\\rowindex_array.cc', 'src\\\\core\\\\rowindex_slice.cc', 'src\\\\core\\\\set_funcs.cc', 'src\\\\core\\\\sort.cc', 'src\\\\core\\\\sort_groups.cc', 'src\\\\core\\\\sort_insert.cc', 'src\\\\core\\\\stats.cc', 'src\\\\core\\\\stype.cc', 'src\\\\core\\\\writebuf.cc', 'src\\\\core\\\\wstringcol.cc', 'src\\\\core\\\\column\\\\arrow_bool.cc', 'src\\\\core\\\\column\\\\arrow_fw.cc', 'src\\\\core\\\\column\\\\arrow_str.cc', 'src\\\\core\\\\column\\\\arrow_void.cc', 'src\\\\core\\\\column\\\\cast.cc', 'src\\\\core\\\\column\\\\cast_bool.cc', 'src\\\\core\\\\column\\\\cast_date32.cc', 'src\\\\core\\\\column\\\\cast_numeric.cc', 'src\\\\core\\\\column\\\\cast_object.cc', 'src\\\\core\\\\column\\\\cast_string.cc', 'src\\\\core\\\\column\\\\cast_to_bool.cc', 'src\\\\core\\\\column\\\\cast_to_date32.cc', 'src\\\\core\\\\column\\\\cast_to_obj.cc', 'src\\\\core\\\\column\\\\cast_to_string.cc', 'src\\\\core\\\\column\\\\cast_to_time64.cc', 'src\\\\core\\\\column\\\\column_impl.cc', 'src\\\\core\\\\column\\\\const.cc', 'src\\\\core\\\\column\\\\const_na.cc', 'src\\\\core\\\\column\\\\date_from_months.cc', 'src\\\\core\\\\column\\\\date_from_weeks.cc', 'src\\\\core\\\\column\\\\date_from_years.cc', 'src\\\\core\\\\column\\\\ifelse.cc', 'src\\\\core\\\\column\\\\ifelsen.cc', 'src\\\\core\\\\column\\\\latent.cc', 'src\\\\core\\\\column\\\\nafilled.cc', 'src\\\\core\\\\column\\\\npmasked.cc', 'src\\\\core\\\\column\\\\pysources.cc', 'src\\\\core\\\\column\\\\range.cc', 'src\\\\core\\\\column\\\\rbound.cc', 'src\\\\core\\\\column\\\\repeated.cc', 'src\\\\core\\\\column\\\\re_match.cc', 'src\\\\core\\\\column\\\\sentinel.cc', 'src\\\\core\\\\column\\\\sentinel_fw.cc', 'src\\\\core\\\\column\\\\sentinel_str.cc', 'src\\\\core\\\\column\\\\string_plus.cc', 'src\\\\core\\\\column\\\\string_slice.cc', 'src\\\\core\\\\column\\\\time_scaled.cc', 'src\\\\core\\\\column\\\\truncated.cc', 'src\\\\core\\\\column\\\\view.cc', 'src\\\\core\\\\column\\\\virtual.cc', 'src\\\\core\\\\csv\\\\fread.cc', 'src\\\\core\\\\csv\\\\reader.cc', 'src\\\\core\\\\csv\\\\reader_arff.cc', 'src\\\\core\\\\csv\\\\reader_fread.cc', 'src\\\\core\\\\csv\\\\toa.cc', 'src\\\\core\\\\expr\\\\args_registry.cc', 'src\\\\core\\\\expr\\\\eval_context.cc', 'src\\\\core\\\\expr\\\\expr.cc', 'src\\\\core\\\\expr\\\\fexpr.cc', 'src\\\\core\\\\expr\\\\fexpr_astype.cc', 'src\\\\core\\\\expr\\\\fexpr_column_asarg.cc', 'src\\\\core\\\\expr\\\\fexpr_column_asattr.cc', 'src\\\\core\\\\expr\\\\fexpr_cut.cc', 'src\\\\core\\\\expr\\\\fexpr_dict.cc', 'src\\\\core\\\\expr\\\\fexpr_frame.cc', 'src\\\\core\\\\expr\\\\fexpr_func.cc', 'src\\\\core\\\\expr\\\\fexpr_func_unary.cc', 'src\\\\core\\\\expr\\\\fexpr_ifelse.cc', 'src\\\\core\\\\expr\\\\fexpr_list.cc', 'src\\\\core\\\\expr\\\\fexpr_literal.cc', 'src\\\\core\\\\expr\\\\fexpr_literal_bool.cc', 'src\\\\core\\\\expr\\\\fexpr_literal_float.cc', 'src\\\\core\\\\expr\\\\fexpr_literal_int.cc', 'src\\\\core\\\\expr\\\\fexpr_literal_none.cc', 'src\\\\core\\\\expr\\\\fexpr_literal_range.cc', 'src\\\\core\\\\expr\\\\fexpr_literal_sliceall.cc', 'src\\\\core\\\\expr\\\\fexpr_literal_sliceint.cc', 'src\\\\core\\\\expr\\\\fexpr_literal_slicestr.cc', 'src\\\\core\\\\expr\\\\fexpr_literal_string.cc', 'src\\\\core\\\\expr\\\\fexpr_literal_type.cc', 'src\\\\core\\\\expr\\\\fexpr_qcut.cc', 'src\\\\core\\\\expr\\\\fexpr_round.cc', 'src\\\\core\\\\expr\\\\fexpr_slice.cc', 'src\\\\core\\\\expr\\\\head.cc', 'src\\\\core\\\\expr\\\\head_func.cc', 'src\\\\core\\\\expr\\\\head_func_binary.cc', 'src\\\\core\\\\expr\\\\head_func_colset.cc', 'src\\\\core\\\\expr\\\\head_func_isclose.cc', 'src\\\\core\\\\expr\\\\head_func_shift.cc', 'src\\\\core\\\\expr\\\\head_func_unary.cc', 'src\\\\core\\\\expr\\\\head_reduce.cc', 'src\\\\core\\\\expr\\\\head_reduce_binary.cc', 'src\\\\core\\\\expr\\\\head_reduce_nullary.cc', 'src\\\\core\\\\expr\\\\head_reduce_unary.cc', 'src\\\\core\\\\expr\\\\namespace.cc', 'src\\\\core\\\\expr\\\\py_by.cc', 'src\\\\core\\\\expr\\\\py_join.cc', 'src\\\\core\\\\expr\\\\py_sort.cc', 'src\\\\core\\\\expr\\\\py_update.cc', 'src\\\\core\\\\expr\\\\workframe.cc', 'src\\\\core\\\\expr\\\\fbinary\\\\bimaker.cc', 'src\\\\core\\\\expr\\\\fbinary\\\\bitwise.cc', 'src\\\\core\\\\expr\\\\fbinary\\\\fexpr_binaryop.cc', 'src\\\\core\\\\expr\\\\fbinary\\\\fexpr__add__.cc', 'src\\\\core\\\\expr\\\\fbinary\\\\fexpr__compare__.cc', 'src\\\\core\\\\expr\\\\fbinary\\\\fexpr__eq__.cc', 'src\\\\core\\\\expr\\\\fbinary\\\\fexpr__floordiv__.cc', 'src\\\\core\\\\expr\\\\fbinary\\\\fexpr__ge__.cc', 'src\\\\core\\\\expr\\\\fbinary\\\\fexpr__gt__.cc', 'src\\\\core\\\\expr\\\\fbinary\\\\fexpr__le__.cc', 'src\\\\core\\\\expr\\\\fbinary\\\\fexpr__lt__.cc', 'src\\\\core\\\\expr\\\\fbinary\\\\fexpr__mod__.cc', 'src\\\\core\\\\expr\\\\fbinary\\\\fexpr__mul__.cc', 'src\\\\core\\\\expr\\\\fbinary\\\\fexpr__ne__.cc', 'src\\\\core\\\\expr\\\\fbinary\\\\fexpr__pow__.cc', 'src\\\\core\\\\expr\\\\fbinary\\\\fexpr__sub__.cc', 'src\\\\core\\\\expr\\\\fbinary\\\\fexpr__truediv__.cc', 'src\\\\core\\\\expr\\\\fbinary\\\\math.cc', 'src\\\\core\\\\expr\\\\fbinary\\\\pyfn.cc', 'src\\\\core\\\\expr\\\\fnary\\\\fnary.cc', 'src\\\\core\\\\expr\\\\fnary\\\\rowall.cc', 'src\\\\core\\\\expr\\\\fnary\\\\rowany.cc', 'src\\\\core\\\\expr\\\\fnary\\\\rowcount.cc', 'src\\\\core\\\\expr\\\\fnary\\\\rowfirstlast.cc', 'src\\\\core\\\\expr\\\\fnary\\\\rowmean.cc', 'src\\\\core\\\\expr\\\\fnary\\\\rowminmax.cc', 'src\\\\core\\\\expr\\\\fnary\\\\rowsd.cc', 'src\\\\core\\\\expr\\\\fnary\\\\rowsum.cc', 'src\\\\core\\\\expr\\\\funary\\\\basic.cc', 'src\\\\core\\\\expr\\\\funary\\\\exponential.cc', 'src\\\\core\\\\expr\\\\funary\\\\floating.cc', 'src\\\\core\\\\expr\\\\funary\\\\hyperbolic.cc', 'src\\\\core\\\\expr\\\\funary\\\\pyfn.cc', 'src\\\\core\\\\expr\\\\funary\\\\special.cc', 'src\\\\core\\\\expr\\\\funary\\\\trigonometric.cc', 'src\\\\core\\\\expr\\\\funary\\\\umaker.cc', 'src\\\\core\\\\expr\\\\re\\\\fexpr_match.cc', 'src\\\\core\\\\expr\\\\str\\\\fexpr_len.cc', 'src\\\\core\\\\expr\\\\time\\\\fexpr_day_of_week.cc', 'src\\\\core\\\\expr\\\\time\\\\fexpr_hour_min_sec.cc', 'src\\\\core\\\\expr\\\\time\\\\fexpr_year_month_day.cc', 'src\\\\core\\\\expr\\\\time\\\\fexpr_ymd.cc', 'src\\\\core\\\\expr\\\\time\\\\fexpr_ymdt.cc', 'src\\\\core\\\\frame\\\\cbind.cc', 'src\\\\core\\\\frame\\\\integrity_check.cc', 'src\\\\core\\\\frame\\\\join.cc', 'src\\\\core\\\\frame\\\\key.cc', 'src\\\\core\\\\frame\\\\names.cc', 'src\\\\core\\\\frame\\\\py_frame.cc', 'src\\\\core\\\\frame\\\\rbind.cc', 'src\\\\core\\\\frame\\\\repeat.cc', 'src\\\\core\\\\frame\\\\replace.cc', 'src\\\\core\\\\frame\\\\stats.cc', 'src\\\\core\\\\frame\\\\to_arrow.cc', 'src\\\\core\\\\frame\\\\to_csv.cc', 'src\\\\core\\\\frame\\\\to_numpy.cc', 'src\\\\core\\\\frame\\\\to_pandas.cc', 'src\\\\core\\\\frame\\\\to_python.cc', 'src\\\\core\\\\frame\\\\__getbuffer__.cc', 'src\\\\core\\\\frame\\\\__getitem__.cc', 'src\\\\core\\\\frame\\\\__init__.cc', 'src\\\\core\\\\frame\\\\__iter__.cc', 'src\\\\core\\\\frame\\\\__repr__.cc', 'src\\\\core\\\\frame\\\\__sizeof__.cc', 'src\\\\core\\\\frame\\\\repr\\\\html_styles.cc', 'src\\\\core\\\\frame\\\\repr\\\\repr_options.cc', 'src\\\\core\\\\frame\\\\repr\\\\terminal_widget.cc', 'src\\\\core\\\\frame\\\\repr\\\\text_column.cc', 'src\\\\core\\\\frame\\\\repr\\\\widget.cc', 'src\\\\core\\\\jay\\\\open_jay.cc', 'src\\\\core\\\\jay\\\\save_jay.cc', 'src\\\\core\\\\lib\\\\hh\\\\date.cc', 'src\\\\core\\\\lib\\\\mman\\\\mman.cc', 'src\\\\core\\\\lib\\\\zlib\\\\adler32.cc', 'src\\\\core\\\\lib\\\\zlib\\\\crc32.cc', 'src\\\\core\\\\lib\\\\zlib\\\\deflate.cc', 'src\\\\core\\\\lib\\\\zlib\\\\trees.cc', 'src\\\\core\\\\lib\\\\zlib\\\\zutil.cc', 'src\\\\core\\\\models\\\\aggregate.cc', 'src\\\\core\\\\models\\\\column_caster.cc', 'src\\\\core\\\\models\\\\column_hasher.cc', 'src\\\\core\\\\models\\\\dt_ftrl.cc', 'src\\\\core\\\\models\\\\dt_ftrl_base.cc', 'src\\\\core\\\\models\\\\dt_linearmodel.cc', 'src\\\\core\\\\models\\\\dt_linearmodel_base.cc', 'src\\\\core\\\\models\\\\kfold.cc', 'src\\\\core\\\\models\\\\label_encode.cc', 'src\\\\core\\\\models\\\\murmurhash.cc', 'src\\\\core\\\\models\\\\py_ftrl.cc', 'src\\\\core\\\\models\\\\py_linearmodel.cc', 'src\\\\core\\\\models\\\\py_validator.cc', 'src\\\\core\\\\models\\\\utils.cc', 'src\\\\core\\\\parallel\\\\api_primitives.cc', 'src\\\\core\\\\parallel\\\\job_idle.cc', 'src\\\\core\\\\parallel\\\\job_shutdown.cc', 'src\\\\core\\\\parallel\\\\parallel_for_dynamic.cc', 'src\\\\core\\\\parallel\\\\parallel_for_ordered.cc', 'src\\\\core\\\\parallel\\\\parallel_region.cc', 'src\\\\core\\\\parallel\\\\python_lock.cc', 'src\\\\core\\\\parallel\\\\string_utils.cc', 'src\\\\core\\\\parallel\\\\thread_job.cc', 'src\\\\core\\\\parallel\\\\thread_pool.cc', 'src\\\\core\\\\parallel\\\\thread_team.cc', 'src\\\\core\\\\parallel\\\\thread_worker.cc', 'src\\\\core\\\\progress\\\\progress_bar.cc', 'src\\\\core\\\\progress\\\\progress_manager.cc', 'src\\\\core\\\\progress\\\\work.cc', 'src\\\\core\\\\progress\\\\_options.cc', 'src\\\\core\\\\python\\\\arg.cc', 'src\\\\core\\\\python\\\\args.cc', 'src\\\\core\\\\python\\\\bool.cc', 'src\\\\core\\\\python\\\\date.cc', 'src\\\\core\\\\python\\\\dict.cc', 'src\\\\core\\\\python\\\\float.cc', 'src\\\\core\\\\python\\\\int.cc', 'src\\\\core\\\\python\\\\iter.cc', 'src\\\\core\\\\python\\\\list.cc', 'src\\\\core\\\\python\\\\namedtuple.cc', 'src\\\\core\\\\python\\\\obj.cc', 'src\\\\core\\\\python\\\\pybuffer.cc', 'src\\\\core\\\\python\\\\range.cc', 'src\\\\core\\\\python\\\\set.cc', 'src\\\\core\\\\python\\\\slice.cc', 'src\\\\core\\\\python\\\\string.cc', 'src\\\\core\\\\python\\\\tuple.cc', 'src\\\\core\\\\python\\\\xargs.cc', 'src\\\\core\\\\python\\\\xobject.cc', 'src\\\\core\\\\read\\\\chunk_coordinates.cc', 'src\\\\core\\\\read\\\\constants.cc', 'src\\\\core\\\\read\\\\input_column.cc', 'src\\\\core\\\\read\\\\multisource.cc', 'src\\\\core\\\\read\\\\output_column.cc', 'src\\\\core\\\\read\\\\parallel_reader.cc', 'src\\\\core\\\\read\\\\parse_context.cc', 'src\\\\core\\\\read\\\\preframe.cc', 'src\\\\core\\\\read\\\\py_fread.cc', 'src\\\\core\\\\read\\\\py_read_iterator.cc', 'src\\\\core\\\\read\\\\source.cc', 'src\\\\core\\\\read\\\\thread_context.cc', 'src\\\\core\\\\read\\\\fread\\\\fread_parallel_reader.cc', 'src\\\\core\\\\read\\\\fread\\\\fread_thread_context.cc', 'src\\\\core\\\\read\\\\parsers\\\\info.cc', 'src\\\\core\\\\read\\\\parsers\\\\parse_bool.cc', 'src\\\\core\\\\read\\\\parsers\\\\parse_date.cc', 'src\\\\core\\\\read\\\\parsers\\\\parse_float.cc', 'src\\\\core\\\\read\\\\parsers\\\\parse_int.cc', 'src\\\\core\\\\read\\\\parsers\\\\parse_string.cc', 'src\\\\core\\\\read\\\\parsers\\\\parse_time.cc', 'src\\\\core\\\\read\\\\parsers\\\\parse_void.cc', 'src\\\\core\\\\read\\\\parsers\\\\ptype_iterator.cc', 'src\\\\core\\\\sort\\\\sorter.cc', 'src\\\\core\\\\str\\\\split_into_nhot.cc', 'src\\\\core\\\\tests\\\\test_atomic.cc', 'src\\\\core\\\\tests\\\\test_barrier.cc', 'src\\\\core\\\\tests\\\\test_parallel_for.cc', 'src\\\\core\\\\tests\\\\test_parallel_for_ordered.cc', 'src\\\\core\\\\tests\\\\test_progress.cc', 'src\\\\core\\\\tests\\\\test_shared_mutex.cc', 'src\\\\core\\\\types\\\\py_type.cc', 'src\\\\core\\\\types\\\\type.cc', 'src\\\\core\\\\types\\\\typeimpl.cc', 'src\\\\core\\\\types\\\\typeimpl_numeric.cc', 'src\\\\core\\\\types\\\\type_bool.cc', 'src\\\\core\\\\types\\\\type_date.cc', 'src\\\\core\\\\types\\\\type_float.cc', 'src\\\\core\\\\types\\\\type_int.cc', 'src\\\\core\\\\types\\\\type_invalid.cc', 'src\\\\core\\\\types\\\\type_object.cc', 'src\\\\core\\\\types\\\\type_string.cc', 'src\\\\core\\\\types\\\\type_time.cc', 'src\\\\core\\\\types\\\\type_void.cc', 'src\\\\core\\\\utils\\\\alloc.cc', 'src\\\\core\\\\utils\\\\exceptions.cc', 'src\\\\core\\\\utils\\\\file.cc', 'src\\\\core\\\\utils\\\\fuzzy_match.cc', 'src\\\\core\\\\utils\\\\logger.cc', 'src\\\\core\\\\utils\\\\misc.cc', 'src\\\\core\\\\utils\\\\temporary_file.cc', 'src\\\\core\\\\utils\\\\tests.cc', 'src\\\\core\\\\utils\\\\wcwidth.cc', 'src\\\\core\\\\utils\\\\terminal\\\\terminal.cc', 'src\\\\core\\\\utils\\\\terminal\\\\terminal_stream.cc', 'src\\\\core\\\\utils\\\\terminal\\\\tstring.cc', 'src\\\\core\\\\utils\\\\terminal\\\\tstring_impl.cc', 'src\\\\core\\\\utils\\\\terminal\\\\tstring_mixed.cc', 'src\\\\core\\\\utils\\\\terminal\\\\tstring_plain.cc', 'src\\\\core\\\\utils\\\\terminal\\\\tstring_styled.cc', 'src\\\\core\\\\write\\\\csv_writer.cc', 'src\\\\core\\\\write\\\\value_writer.cc', 'src\\\\core\\\\write\\\\write_chronicler.cc', 'src\\\\core\\\\write\\\\write_manager.cc', 'src\\\\core\\\\write\\\\writing_context.cc']\u001b[m\n",
      "      \u001b[90mUsing compiler of class xbuild.compiler.Compiler\u001b[m\n",
      "      Traceback (most recent call last):\n",
      "        File \"C:\\Users\\kumar\\AppData\\Local\\Programs\\Python\\Python311\\Lib\\site-packages\\pip\\_vendor\\pyproject_hooks\\_in_process\\_in_process.py\", line 353, in <module>\n",
      "          main()\n",
      "        File \"C:\\Users\\kumar\\AppData\\Local\\Programs\\Python\\Python311\\Lib\\site-packages\\pip\\_vendor\\pyproject_hooks\\_in_process\\_in_process.py\", line 335, in main\n",
      "          json_out['return_val'] = hook(**hook_input['kwargs'])\n",
      "                                   ^^^^^^^^^^^^^^^^^^^^^^^^^^^^\n",
      "        File \"C:\\Users\\kumar\\AppData\\Local\\Programs\\Python\\Python311\\Lib\\site-packages\\pip\\_vendor\\pyproject_hooks\\_in_process\\_in_process.py\", line 152, in prepare_metadata_for_build_wheel\n",
      "          whl_basename = backend.build_wheel(metadata_directory, config_settings)\n",
      "                         ^^^^^^^^^^^^^^^^^^^^^^^^^^^^^^^^^^^^^^^^^^^^^^^^^^^^^^^^\n",
      "        File \"C:\\Users\\kumar\\AppData\\Local\\Temp\\pip-install-cwl27nyd\\datatable_2252baa7bd35438381cf8bb8dead2a10\\ci\\ext.py\", line 587, in build_wheel\n",
      "          so_file = build_extension(cmd=(\"debug\" if debug_wheel else \"build\"),\n",
      "                    ^^^^^^^^^^^^^^^^^^^^^^^^^^^^^^^^^^^^^^^^^^^^^^^^^^^^^^^^^^\n",
      "        File \"C:\\Users\\kumar\\AppData\\Local\\Temp\\pip-install-cwl27nyd\\datatable_2252baa7bd35438381cf8bb8dead2a10\\ci\\ext.py\", line 225, in build_extension\n",
      "          ext.compiler.enable_colors()\n",
      "        File \"C:\\Users\\kumar\\AppData\\Local\\Temp\\pip-install-cwl27nyd\\datatable_2252baa7bd35438381cf8bb8dead2a10\\ci\\xbuild\\compiler.py\", line 274, in enable_colors\n",
      "          if not self.is_msvc():\n",
      "                 ^^^^^^^^^^^^^^\n",
      "        File \"C:\\Users\\kumar\\AppData\\Local\\Temp\\pip-install-cwl27nyd\\datatable_2252baa7bd35438381cf8bb8dead2a10\\ci\\xbuild\\compiler.py\", line 91, in is_msvc\n",
      "          return self.flavor == \"msvc\"\n",
      "                 ^^^^^^^^^^^\n",
      "        File \"C:\\Users\\kumar\\AppData\\Local\\Temp\\pip-install-cwl27nyd\\datatable_2252baa7bd35438381cf8bb8dead2a10\\ci\\xbuild\\compiler.py\", line 78, in flavor\n",
      "          self._detect_compiler_executable()\n",
      "        File \"C:\\Users\\kumar\\AppData\\Local\\Temp\\pip-install-cwl27nyd\\datatable_2252baa7bd35438381cf8bb8dead2a10\\ci\\xbuild\\compiler.py\", line 150, in _detect_compiler_executable\n",
      "          raise ValueError(\"Microsoft Visual Studio directory %s not found. \"\n",
      "      ValueError: Microsoft Visual Studio directory C:\\Program Files (x86)\\Microsoft Visual Studio\\2019\\Community\\VC\\Tools\\MSVC\\ not found. Please specify its location in `DT_MSVC_PATH` environment variable.\n",
      "      [end of output]\n",
      "  \n",
      "  note: This error originates from a subprocess, and is likely not a problem with pip.\n",
      "error: metadata-generation-failed\n",
      "\n",
      "× Encountered error while generating package metadata.\n",
      "╰─> See above for output.\n",
      "\n",
      "note: This is an issue with the package mentioned above, not pip.\n",
      "hint: See above for details.\n"
     ]
    }
   ],
   "source": [
    "!pip install datatable"
   ]
  },
  {
   "cell_type": "code",
   "execution_count": 4,
   "metadata": {},
   "outputs": [
    {
     "ename": "ModuleNotFoundError",
     "evalue": "No module named 'gendoc'",
     "output_type": "error",
     "traceback": [
      "\u001b[1;31m---------------------------------------------------------------------------\u001b[0m",
      "\u001b[1;31mModuleNotFoundError\u001b[0m                       Traceback (most recent call last)",
      "\u001b[1;32m~\\AppData\\Local\\Temp\\ipykernel_27428\\1757934643.py\u001b[0m in \u001b[0;36m<module>\u001b[1;34m\u001b[0m\n\u001b[1;32m----> 1\u001b[1;33m \u001b[1;32mimport\u001b[0m \u001b[0mgendoc\u001b[0m\u001b[1;33m\u001b[0m\u001b[1;33m\u001b[0m\u001b[0m\n\u001b[0m",
      "\u001b[1;31mModuleNotFoundError\u001b[0m: No module named 'gendoc'"
     ]
    }
   ],
   "source": [
    "import gendoc"
   ]
  },
  {
   "cell_type": "code",
   "execution_count": 9,
   "metadata": {},
   "outputs": [
    {
     "name": "stdout",
     "output_type": "stream",
     "text": [
      "Sourcing file: test.csv\n",
      "Sourcing file: test1.csv\n",
      "Sourcing file: test2.csv\n"
     ]
    }
   ],
   "source": [
    "prepData = get_yaml_data(\"scratch.yaml\")"
   ]
  },
  {
   "cell_type": "code",
   "execution_count": 10,
   "metadata": {},
   "outputs": [
    {
     "data": {
      "text/html": [
       "<div>\n",
       "<style scoped>\n",
       "    .dataframe tbody tr th:only-of-type {\n",
       "        vertical-align: middle;\n",
       "    }\n",
       "\n",
       "    .dataframe tbody tr th {\n",
       "        vertical-align: top;\n",
       "    }\n",
       "\n",
       "    .dataframe thead th {\n",
       "        text-align: right;\n",
       "    }\n",
       "</style>\n",
       "<table border=\"1\" class=\"dataframe\">\n",
       "  <thead>\n",
       "    <tr style=\"text-align: right;\">\n",
       "      <th></th>\n",
       "      <th>a</th>\n",
       "      <th>b</th>\n",
       "      <th>c</th>\n",
       "    </tr>\n",
       "  </thead>\n",
       "  <tbody>\n",
       "    <tr>\n",
       "      <th>0</th>\n",
       "      <td>1</td>\n",
       "      <td>2</td>\n",
       "      <td>3</td>\n",
       "    </tr>\n",
       "  </tbody>\n",
       "</table>\n",
       "</div>"
      ],
      "text/plain": [
       "   a  b  c\n",
       "0  1  2  3"
      ]
     },
     "execution_count": 10,
     "metadata": {},
     "output_type": "execute_result"
    }
   ],
   "source": [
    "prepData['key3']"
   ]
  },
  {
   "cell_type": "code",
   "execution_count": null,
   "metadata": {},
   "outputs": [],
   "source": [
    "{dataKey: pd.read_csv(dataValue) for dataKey, dataValue in yaml_file}"
   ]
  },
  {
   "cell_type": "code",
   "execution_count": 130,
   "metadata": {},
   "outputs": [],
   "source": [
    "# I have a following dictionary\n",
    "\n",
    "d = {\n",
    "  \"root\":{\n",
    "  \"key1\": \n",
    "    {\"subkey11\": \"value11\",\n",
    "     \"subkey12\": \"value12\",\n",
    "     \"subkey13\": \"value13\"},\n",
    "  \"key2\": \n",
    "    {\"subkey21\": \"subkey211\",\n",
    "     \"subkey22\": \"value22\",\n",
    "     \"subkey23\": \"value23\"},\n",
    "    \"key3\": \"value3\"\n",
    "  }\n",
    "}\n",
    "\n",
    "# I want a list comprehension that will return a list of dictionaries with the following structure\n",
    "\n",
    "out = [{\n",
    "  \"parent\": \"root\",\n",
    "  \"children\": [\"key1\", \"key2\"],\n",
    "},\n",
    " {\n",
    "   \"parent\": \"key1\",\n",
    "   \"children\": [\"subkey21\", \"subkey22\", \"subkey23\"],\n",
    " }\n",
    "]\n",
    "\n",
    "# and so on..\n",
    "\n",
    "# Use flatten list as a dectorator function\n",
    "flatten_list = lambda lst: [i for sublist in lst for i in (flatten_list(sublist) if type(sublist) == list else [sublist])] \n",
    "\n",
    "def getChildren(d: dict) -> list:\n",
    "    return flatten_list([{\"parent\": key, \"children\": tuple(d.get(key).keys())} if isinstance(d.get(key), dict) and d.get(key) != {} else {\"parent\": key, \"children\": value} for key,value in d.items()]+[getChildren(d.get(key)) for key,value in d.items() if isinstance(d.get(key), dict) and d.get(key) != {}])\n",
    " "
   ]
  },
  {
   "cell_type": "code",
   "execution_count": 131,
   "metadata": {},
   "outputs": [
    {
     "data": {
      "text/plain": [
       "[{'parent': 'root', 'children': ('key1', 'key2', 'key3')},\n",
       " {'parent': 'key1', 'children': ('subkey11', 'subkey12', 'subkey13')},\n",
       " {'parent': 'key2', 'children': ('subkey21', 'subkey22', 'subkey23')},\n",
       " {'parent': 'key3', 'children': 'value3'},\n",
       " {'parent': 'subkey11', 'children': 'value11'},\n",
       " {'parent': 'subkey12', 'children': 'value12'},\n",
       " {'parent': 'subkey13', 'children': 'value13'},\n",
       " {'parent': 'subkey21', 'children': 'subkey211'},\n",
       " {'parent': 'subkey22', 'children': 'value22'},\n",
       " {'parent': 'subkey23', 'children': 'value23'}]"
      ]
     },
     "execution_count": 131,
     "metadata": {},
     "output_type": "execute_result"
    }
   ],
   "source": [
    "getChildren(d)"
   ]
  },
  {
   "cell_type": "code",
   "execution_count": 134,
   "metadata": {},
   "outputs": [],
   "source": [
    "# Create 5 test cases with nested dictionaries for the getChildren function\n",
    "# Test case 1: Empty dictionary\n",
    "# Test case 2: Dictionary with one level\n",
    "# Test case 3: Dictionary with two levels\n",
    "# Test case 4: Dictionary with three levels and empty keys\n",
    "# Test case 5: Dictionary with three levels and non-empty keys\n",
    "\n",
    "testCases = [\n",
    "    {},\n",
    "    {\"root\": {\"key1\": \"value1\", \"key2\": \"value2\"}},\n",
    "    {\"root\": {\"key1\": {\"subkey11\": \"value11\", \"subkey12\": \"value12\", \"subkey13\": \"value13\"}, \"key2\": {\"subkey21\": \"subkey211\", \"subkey22\": \"value22\", \"subkey23\": \"value23\"}}},\n",
    "    {\"root\": {\"key1\": {\"subkey11\": \"value11\", \"subkey12\": \"value12\", \"subkey13\": \"value13\"}, \"key2\": {\"subkey21\": \"subkey211\", \"subkey22\": \"value22\", \"subkey23\": {\"subkey231\": \"value231\", \"subkey232\": \"value232\"},\"subkey24\": {}}}},\n",
    "    {\"root\": {\"key1\": {\"subkey11\": \"value11\", \"subkey12\": \"value12\", \"subkey13\": \"value13\"}, \"key2\": {\"subkey21\": \"subkey211\", \"subkey22\": \"value22\", \"subkey23\": {\"subkey231\": \"value231\", \"subkey232\": \"value232\"},\"subkey24\": {\"subkey241\": \"value241\", \"subkey242\": \"value242\"}}}},\n",
    "]\n",
    "\n",
    "    \n",
    "  \n",
    "\n"
   ]
  },
  {
   "cell_type": "code",
   "execution_count": 135,
   "metadata": {},
   "outputs": [
    {
     "name": "stdout",
     "output_type": "stream",
     "text": [
      "[]\n",
      "[{'parent': 'root', 'children': ('key1', 'key2')}, {'parent': 'key1', 'children': 'value1'}, {'parent': 'key2', 'children': 'value2'}]\n",
      "[{'parent': 'root', 'children': ('key1', 'key2')}, {'parent': 'key1', 'children': ('subkey11', 'subkey12', 'subkey13')}, {'parent': 'key2', 'children': ('subkey21', 'subkey22', 'subkey23')}, {'parent': 'subkey11', 'children': 'value11'}, {'parent': 'subkey12', 'children': 'value12'}, {'parent': 'subkey13', 'children': 'value13'}, {'parent': 'subkey21', 'children': 'subkey211'}, {'parent': 'subkey22', 'children': 'value22'}, {'parent': 'subkey23', 'children': 'value23'}]\n",
      "[{'parent': 'root', 'children': ('key1', 'key2')}, {'parent': 'key1', 'children': ('subkey11', 'subkey12', 'subkey13')}, {'parent': 'key2', 'children': ('subkey21', 'subkey22', 'subkey23', 'subkey24')}, {'parent': 'subkey11', 'children': 'value11'}, {'parent': 'subkey12', 'children': 'value12'}, {'parent': 'subkey13', 'children': 'value13'}, {'parent': 'subkey21', 'children': 'subkey211'}, {'parent': 'subkey22', 'children': 'value22'}, {'parent': 'subkey23', 'children': ('subkey231', 'subkey232')}, {'parent': 'subkey24', 'children': {}}, {'parent': 'subkey231', 'children': 'value231'}, {'parent': 'subkey232', 'children': 'value232'}]\n",
      "[{'parent': 'root', 'children': ('key1', 'key2')}, {'parent': 'key1', 'children': ('subkey11', 'subkey12', 'subkey13')}, {'parent': 'key2', 'children': ('subkey21', 'subkey22', 'subkey23', 'subkey24')}, {'parent': 'subkey11', 'children': 'value11'}, {'parent': 'subkey12', 'children': 'value12'}, {'parent': 'subkey13', 'children': 'value13'}, {'parent': 'subkey21', 'children': 'subkey211'}, {'parent': 'subkey22', 'children': 'value22'}, {'parent': 'subkey23', 'children': ('subkey231', 'subkey232')}, {'parent': 'subkey24', 'children': ('subkey241', 'subkey242')}, {'parent': 'subkey231', 'children': 'value231'}, {'parent': 'subkey232', 'children': 'value232'}, {'parent': 'subkey241', 'children': 'value241'}, {'parent': 'subkey242', 'children': 'value242'}]\n"
     ]
    }
   ],
   "source": [
    "for case in testCases:\n",
    "    print(getChildren(case))"
   ]
  },
  {
   "cell_type": "code",
   "execution_count": null,
   "metadata": {},
   "outputs": [],
   "source": []
  },
  {
   "cell_type": "code",
   "execution_count": null,
   "metadata": {},
   "outputs": [],
   "source": [
    "[{\"parent\": key, \"children\": tuple(d.get(key).keys())}"
   ]
  },
  {
   "cell_type": "code",
   "execution_count": 75,
   "metadata": {},
   "outputs": [],
   "source": [
    "def convertTreetoList(d):\n",
    "  list = [{'parent': 'root', 'children': tuple(d.get('root').keys())}]\n",
    "  for key, value in d.items():\n",
    "      list += getChildren(value)\n",
    "  return list"
   ]
  },
  {
   "cell_type": "code",
   "execution_count": 78,
   "metadata": {},
   "outputs": [
    {
     "data": {
      "text/plain": [
       "[{'parent': 'root', 'children': ('key1', 'key2', 'key3')},\n",
       " [{'parent': 'key1', 'children': ('subkey11', 'subkey12', 'subkey13')},\n",
       "  {'parent': 'key2', 'children': ('subkey21', 'subkey22', 'subkey23')},\n",
       "  {'parent': 'key3', 'children': 'value3'},\n",
       "  [{'parent': 'subkey11', 'children': 'value11'},\n",
       "   {'parent': 'subkey12', 'children': 'value12'},\n",
       "   {'parent': 'subkey13', 'children': 'value13'}],\n",
       "  [{'parent': 'subkey21', 'children': 'value21'},\n",
       "   {'parent': 'subkey22', 'children': 'value22'},\n",
       "   {'parent': 'subkey23', 'children': 'value23'}]]]"
      ]
     },
     "execution_count": 78,
     "metadata": {},
     "output_type": "execute_result"
    }
   ],
   "source": [
    "getChildren(d)"
   ]
  },
  {
   "cell_type": "code",
   "execution_count": 76,
   "metadata": {},
   "outputs": [
    {
     "data": {
      "text/plain": [
       "[{'parent': 'root', 'children': ('key1', 'key2', 'key3')},\n",
       " {'parent': 'key1', 'children': ('subkey11', 'subkey12', 'subkey13')},\n",
       " {'parent': 'key2', 'children': ('subkey21', 'subkey22', 'subkey23')},\n",
       " {'parent': 'key3', 'children': 'value3'}]"
      ]
     },
     "execution_count": 76,
     "metadata": {},
     "output_type": "execute_result"
    }
   ],
   "source": [
    "convertTreetoList(d)"
   ]
  },
  {
   "cell_type": "code",
   "execution_count": 32,
   "metadata": {},
   "outputs": [],
   "source": [
    "# Recursively get all parent nodes and child nodes in the dictionary\n",
    "\n",
    "\n",
    "def convertTreetoList(d, parent=None):\n",
    "    return [{\"parent\": parent, \"children\": tuple(d.keys())} if isinstance(d, dict) and d != {} else {\"parent\": parent, \"children\": d}] + \\\n",
    "           [item for k, v in d.items() for item in convertTreetoList(v, k) if isinstance(v, dict)]"
   ]
  },
  {
   "cell_type": "code",
   "execution_count": 99,
   "metadata": {},
   "outputs": [],
   "source": [
    "# Create a dummy 5 level nested dictionary \n",
    "\n",
    "nested_dict = {\n",
    "    \"root\": {\n",
    "        \"key1\": {\n",
    "            \"subkey11\": {\n",
    "                \"subsubkey111\": \"value111\",\n",
    "                \"subsubkey112\": \"value112\",\n",
    "                \"subsubkey113\": {\n",
    "                    \"subsubsubkey1131\": \"value1131\",\n",
    "                }\n",
    "            },\n",
    "        },\n",
    "    }           \n",
    "}"
   ]
  },
  {
   "cell_type": "code",
   "execution_count": 102,
   "metadata": {},
   "outputs": [],
   "source": []
  },
  {
   "cell_type": "code",
   "execution_count": 103,
   "metadata": {},
   "outputs": [
    {
     "data": {
      "text/plain": [
       "[{'parent': 'root', 'children': ('key1',)},\n",
       " {'parent': 'key1', 'children': ('subkey11',)},\n",
       " {'parent': 'subkey11',\n",
       "  'children': ('subsubkey111', 'subsubkey112', 'subsubkey113')},\n",
       " {'parent': 'subsubkey111', 'children': 'value111'},\n",
       " {'parent': 'subsubkey112', 'children': 'value112'},\n",
       " {'parent': 'subsubkey113', 'children': ('subsubsubkey1131',)},\n",
       " {'parent': 'subsubsubkey1131', 'children': 'value1131'}]"
      ]
     },
     "execution_count": 103,
     "metadata": {},
     "output_type": "execute_result"
    }
   ],
   "source": [
    "flatten_list(getChildren(nested_dict))"
   ]
  },
  {
   "cell_type": "code",
   "execution_count": 105,
   "metadata": {},
   "outputs": [
    {
     "data": {
      "text/html": [
       "<div>\n",
       "<style scoped>\n",
       "    .dataframe tbody tr th:only-of-type {\n",
       "        vertical-align: middle;\n",
       "    }\n",
       "\n",
       "    .dataframe tbody tr th {\n",
       "        vertical-align: top;\n",
       "    }\n",
       "\n",
       "    .dataframe thead th {\n",
       "        text-align: right;\n",
       "    }\n",
       "</style>\n",
       "<table border=\"1\" class=\"dataframe\">\n",
       "  <thead>\n",
       "    <tr style=\"text-align: right;\">\n",
       "      <th></th>\n",
       "      <th>parent</th>\n",
       "      <th>children</th>\n",
       "    </tr>\n",
       "  </thead>\n",
       "  <tbody>\n",
       "    <tr>\n",
       "      <th>0</th>\n",
       "      <td>root</td>\n",
       "      <td>(key1,)</td>\n",
       "    </tr>\n",
       "    <tr>\n",
       "      <th>1</th>\n",
       "      <td>key1</td>\n",
       "      <td>(subkey11,)</td>\n",
       "    </tr>\n",
       "    <tr>\n",
       "      <th>2</th>\n",
       "      <td>subkey11</td>\n",
       "      <td>(subsubkey111, subsubkey112, subsubkey113)</td>\n",
       "    </tr>\n",
       "    <tr>\n",
       "      <th>3</th>\n",
       "      <td>subsubkey111</td>\n",
       "      <td>value111</td>\n",
       "    </tr>\n",
       "    <tr>\n",
       "      <th>4</th>\n",
       "      <td>subsubkey112</td>\n",
       "      <td>value112</td>\n",
       "    </tr>\n",
       "    <tr>\n",
       "      <th>5</th>\n",
       "      <td>subsubkey113</td>\n",
       "      <td>(subsubsubkey1131,)</td>\n",
       "    </tr>\n",
       "    <tr>\n",
       "      <th>6</th>\n",
       "      <td>subsubsubkey1131</td>\n",
       "      <td>value1131</td>\n",
       "    </tr>\n",
       "  </tbody>\n",
       "</table>\n",
       "</div>"
      ],
      "text/plain": [
       "             parent                                    children\n",
       "0              root                                     (key1,)\n",
       "1              key1                                 (subkey11,)\n",
       "2          subkey11  (subsubkey111, subsubkey112, subsubkey113)\n",
       "3      subsubkey111                                    value111\n",
       "4      subsubkey112                                    value112\n",
       "5      subsubkey113                         (subsubsubkey1131,)\n",
       "6  subsubsubkey1131                                   value1131"
      ]
     },
     "execution_count": 105,
     "metadata": {},
     "output_type": "execute_result"
    }
   ],
   "source": [
    "import pandas as pd \n",
    "pd.DataFrame(flatten_list(getChildren(nested_dict)))"
   ]
  },
  {
   "cell_type": "code",
   "execution_count": 6,
   "metadata": {},
   "outputs": [],
   "source": [
    "def get_children(d, parent=None):\n",
    "    children = []\n",
    "    for k, v in d.items():\n",
    "        if isinstance(v, dict):\n",
    "            children.append({\"parent\": parent if parent else k, \"children\": [i for i in v.keys()]})\n",
    "            children.extend(get_children(v, parent=k))\n",
    "    return children\n",
    "\n",
    "out = get_children(d)\n"
   ]
  },
  {
   "cell_type": "code",
   "execution_count": 7,
   "metadata": {},
   "outputs": [
    {
     "data": {
      "text/plain": [
       "[{'parent': 'root', 'children': ['key1', 'key2']},\n",
       " {'parent': 'root', 'children': ['subkey11', 'subkey12', 'subkey13']},\n",
       " {'parent': 'root', 'children': ['subkey21', 'subkey22', 'subkey23']}]"
      ]
     },
     "execution_count": 7,
     "metadata": {},
     "output_type": "execute_result"
    }
   ],
   "source": [
    "out"
   ]
  },
  {
   "cell_type": "code",
   "execution_count": null,
   "metadata": {},
   "outputs": [],
   "source": []
  }
 ],
 "metadata": {
  "kernelspec": {
   "display_name": "Python 3.11.0 64-bit",
   "language": "python",
   "name": "python3"
  },
  "language_info": {
   "codemirror_mode": {
    "name": "ipython",
    "version": 3
   },
   "file_extension": ".py",
   "mimetype": "text/x-python",
   "name": "python",
   "nbconvert_exporter": "python",
   "pygments_lexer": "ipython3",
   "version": "3.11.0"
  },
  "orig_nbformat": 4,
  "vscode": {
   "interpreter": {
    "hash": "41cec28fd681075328d5c3ce57c3e36d2e28950cd4b5df3e126fcfc4cca87be8"
   }
  }
 },
 "nbformat": 4,
 "nbformat_minor": 2
}
