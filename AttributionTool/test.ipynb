{
 "cells": [
  {
   "cell_type": "code",
   "execution_count": 2,
   "metadata": {},
   "outputs": [],
   "source": [
    "import datatable as dt"
   ]
  },
  {
   "cell_type": "code",
   "execution_count": 3,
   "metadata": {},
   "outputs": [
    {
     "data": {
      "text/plain": [
       "['FExpr',\n",
       " 'Frame',\n",
       " 'Namespace',\n",
       " 'Type',\n",
       " '__all__',\n",
       " '__builtins__',\n",
       " '__cached__',\n",
       " '__doc__',\n",
       " '__file__',\n",
       " '__loader__',\n",
       " '__name__',\n",
       " '__package__',\n",
       " '__path__',\n",
       " '__spec__',\n",
       " '__version__',\n",
       " '__warningregistry__',\n",
       " '_build_info',\n",
       " 'abs',\n",
       " 'as_type',\n",
       " 'bool8',\n",
       " 'build_info',\n",
       " 'by',\n",
       " 'categories',\n",
       " 'cbind',\n",
       " 'codes',\n",
       " 'corr',\n",
       " 'count',\n",
       " 'countna',\n",
       " 'cov',\n",
       " 'cumcount',\n",
       " 'cummax',\n",
       " 'cummin',\n",
       " 'cumprod',\n",
       " 'cumsum',\n",
       " 'cut',\n",
       " 'dt',\n",
       " 'exceptions',\n",
       " 'exp',\n",
       " 'expr',\n",
       " 'f',\n",
       " 'fillna',\n",
       " 'first',\n",
       " 'float32',\n",
       " 'float64',\n",
       " 'frame',\n",
       " 'fread',\n",
       " 'g',\n",
       " 'ifelse',\n",
       " 'init_styles',\n",
       " 'int16',\n",
       " 'int32',\n",
       " 'int64',\n",
       " 'int8',\n",
       " 'internal',\n",
       " 'intersect',\n",
       " 'iread',\n",
       " 'isna',\n",
       " 'join',\n",
       " 'last',\n",
       " 'lib',\n",
       " 'log',\n",
       " 'log10',\n",
       " 'ltype',\n",
       " 'math',\n",
       " 'max',\n",
       " 'mean',\n",
       " 'median',\n",
       " 'min',\n",
       " 'ngroup',\n",
       " 'nunique',\n",
       " 'obj64',\n",
       " 'options',\n",
       " 'prod',\n",
       " 'qcut',\n",
       " 'rbind',\n",
       " 're',\n",
       " 'repeat',\n",
       " 'rowall',\n",
       " 'rowany',\n",
       " 'rowargmax',\n",
       " 'rowargmin',\n",
       " 'rowcount',\n",
       " 'rowfirst',\n",
       " 'rowlast',\n",
       " 'rowmax',\n",
       " 'rowmean',\n",
       " 'rowmin',\n",
       " 'rowsd',\n",
       " 'rowsum',\n",
       " 'sd',\n",
       " 'setdiff',\n",
       " 'shift',\n",
       " 'sort',\n",
       " 'split_into_nhot',\n",
       " 'str',\n",
       " 'str32',\n",
       " 'str64',\n",
       " 'stype',\n",
       " 'sum',\n",
       " 'symdiff',\n",
       " 'time',\n",
       " 'types',\n",
       " 'union',\n",
       " 'unique',\n",
       " 'update',\n",
       " 'void']"
      ]
     },
     "execution_count": 3,
     "metadata": {},
     "output_type": "execute_result"
    }
   ],
   "source": [
    "dir(dt)"
   ]
  },
  {
   "cell_type": "code",
   "execution_count": null,
   "metadata": {},
   "outputs": [],
   "source": []
  }
 ],
 "metadata": {
  "kernelspec": {
   "display_name": "Python 3.11.0 64-bit",
   "language": "python",
   "name": "python3"
  },
  "language_info": {
   "codemirror_mode": {
    "name": "ipython",
    "version": 3
   },
   "file_extension": ".py",
   "mimetype": "text/x-python",
   "name": "python",
   "nbconvert_exporter": "python",
   "pygments_lexer": "ipython3",
   "version": "3.11.0"
  },
  "orig_nbformat": 4,
  "vscode": {
   "interpreter": {
    "hash": "41cec28fd681075328d5c3ce57c3e36d2e28950cd4b5df3e126fcfc4cca87be8"
   }
  }
 },
 "nbformat": 4,
 "nbformat_minor": 2
}
