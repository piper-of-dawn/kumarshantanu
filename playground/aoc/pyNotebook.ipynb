{
 "cells": [
  {
   "cell_type": "code",
   "execution_count": 6,
   "metadata": {},
   "outputs": [
    {
     "name": "stdout",
     "output_type": "stream",
     "text": [
      "['..............', '..............', '.......#......', '.....###.#....', '...#...#.#....', '....#...##....', '...#.###......', '...##.#.##....', '....#..#......', '..............', '..............', '..............']\n"
     ]
    }
   ],
   "source": [
    "with open('data/day23.txt') as f:\n",
    "    data = f.read().splitlines()\n",
    "print(data)"
   ]
  },
  {
   "cell_type": "code",
   "execution_count": 8,
   "metadata": {},
   "outputs": [],
   "source": [
    "class elf():            \n",
    "    def __init__ (self, x, y):\n",
    "        self.position = complex(x, y)\n",
    "        self.direction = [complex(0, 1j), complex(1, 0j), complex(0, -1j), complex(-1, 0j)]\n",
    "        \n",
    "    def move(self):\n",
    "        self.position += self.direction[0]\n",
    "        self.direction = self.direction[1:] + self.direction[:1]   \n",
    "    \n",
    "    def __repr__(self):\n",
    "        return f\"elf({self.position.real}, {self.position.imag}, proposal: {self.direction[0]}\"   "
   ]
  },
  {
   "cell_type": "code",
   "execution_count": 10,
   "metadata": {},
   "outputs": [
    {
     "data": {
      "text/plain": [
       "[1]"
      ]
     },
     "execution_count": 10,
     "metadata": {},
     "output_type": "execute_result"
    }
   ],
   "source": []
  },
  {
   "cell_type": "code",
   "execution_count": 9,
   "metadata": {},
   "outputs": [
    {
     "data": {
      "text/plain": [
       "[elf(2.0, 7.0, proposal: (-1+0j),\n",
       " elf(3.0, 5.0, proposal: (-1+0j),\n",
       " elf(3.0, 6.0, proposal: (-1+0j),\n",
       " elf(3.0, 7.0, proposal: (-1+0j),\n",
       " elf(3.0, 9.0, proposal: (-1+0j),\n",
       " elf(4.0, 3.0, proposal: (-1+0j),\n",
       " elf(4.0, 7.0, proposal: (-1+0j),\n",
       " elf(4.0, 9.0, proposal: (-1+0j),\n",
       " elf(5.0, 4.0, proposal: (-1+0j),\n",
       " elf(5.0, 8.0, proposal: (-1+0j),\n",
       " elf(5.0, 9.0, proposal: (-1+0j),\n",
       " elf(6.0, 3.0, proposal: (-1+0j),\n",
       " elf(6.0, 5.0, proposal: (-1+0j),\n",
       " elf(6.0, 6.0, proposal: (-1+0j),\n",
       " elf(6.0, 7.0, proposal: (-1+0j),\n",
       " elf(7.0, 3.0, proposal: (-1+0j),\n",
       " elf(7.0, 4.0, proposal: (-1+0j),\n",
       " elf(7.0, 6.0, proposal: (-1+0j),\n",
       " elf(7.0, 8.0, proposal: (-1+0j),\n",
       " elf(7.0, 9.0, proposal: (-1+0j),\n",
       " elf(8.0, 4.0, proposal: (-1+0j),\n",
       " elf(8.0, 7.0, proposal: (-1+0j)]"
      ]
     },
     "execution_count": 9,
     "metadata": {},
     "output_type": "execute_result"
    }
   ],
   "source": [
    "elfList = [elf(x,y) for x, line in enumerate(data) for y, char in enumerate(line) if char == \"#\"]      \n",
    "elfList"
   ]
  },
  {
   "cell_type": "code",
   "execution_count": 2,
   "metadata": {},
   "outputs": [
    {
     "name": "stdout",
     "output_type": "stream",
     "text": [
      "8.602325267042627\n"
     ]
    },
    {
     "ename": "AssertionError",
     "evalue": "",
     "output_type": "error",
     "traceback": [
      "\u001b[1;31m---------------------------------------------------------------------------\u001b[0m",
      "\u001b[1;31mAssertionError\u001b[0m                            Traceback (most recent call last)",
      "Cell \u001b[1;32mIn[2], line 3\u001b[0m\n\u001b[0;32m      1\u001b[0m l2_norm \u001b[38;5;241m=\u001b[39m  \u001b[38;5;28;01mlambda\u001b[39;00m x, y: \u001b[38;5;28msum\u001b[39m([(x\u001b[38;5;241m-\u001b[39my)\u001b[38;5;241m*\u001b[39m\u001b[38;5;241m*\u001b[39m\u001b[38;5;241m2\u001b[39m \u001b[38;5;28;01mfor\u001b[39;00m x, y \u001b[38;5;129;01min\u001b[39;00m \u001b[38;5;28mzip\u001b[39m(x, y)])\u001b[38;5;241m*\u001b[39m\u001b[38;5;241m*\u001b[39m\u001b[38;5;241m0.5\u001b[39m\n\u001b[0;32m      2\u001b[0m \u001b[38;5;28mprint\u001b[39m(l2_norm ((\u001b[38;5;241m2\u001b[39m,\u001b[38;5;241m2\u001b[39m),(\u001b[38;5;241m7\u001b[39m,\u001b[38;5;241m9\u001b[39m)))\n\u001b[1;32m----> 3\u001b[0m \u001b[38;5;28;01massert\u001b[39;00m l2_norm ((\u001b[38;5;241m2\u001b[39m,\u001b[38;5;241m2\u001b[39m),(\u001b[38;5;241m7\u001b[39m,\u001b[38;5;241m9\u001b[39m)) \u001b[38;5;241m==\u001b[39m \u001b[38;5;241m8.602\u001b[39m\n",
      "\u001b[1;31mAssertionError\u001b[0m: "
     ]
    }
   ],
   "source": [
    "l2_norm =  lambda x, y: sum([(x-y)**2 for x, y in zip(x, y)])**0.5\n",
    "print(l2_norm ((2,2),(7,9)))"
   ]
  },
  {
   "cell_type": "code",
   "execution_count": null,
   "metadata": {},
   "outputs": [],
   "source": []
  },
  {
   "cell_type": "code",
   "execution_count": null,
   "metadata": {},
   "outputs": [],
   "source": [
    "prices"
   ]
  },
  {
   "cell_type": "code",
   "execution_count": null,
   "metadata": {},
   "outputs": [],
   "source": [
    "data"
   ]
  },
  {
   "cell_type": "code",
   "execution_count": null,
   "metadata": {},
   "outputs": [],
   "source": []
  },
  {
   "cell_type": "code",
   "execution_count": null,
   "metadata": {},
   "outputs": [],
   "source": []
  },
  {
   "cell_type": "code",
   "execution_count": null,
   "metadata": {},
   "outputs": [],
   "source": [
    "data.columns"
   ]
  },
  {
   "cell_type": "code",
   "execution_count": null,
   "metadata": {},
   "outputs": [],
   "source": []
  },
  {
   "cell_type": "code",
   "execution_count": null,
   "metadata": {},
   "outputs": [],
   "source": [
    "dir(ols_results)"
   ]
  },
  {
   "cell_type": "code",
   "execution_count": null,
   "metadata": {},
   "outputs": [],
   "source": [
    "dir(lasso_results)"
   ]
  },
  {
   "cell_type": "code",
   "execution_count": null,
   "metadata": {},
   "outputs": [],
   "source": []
  }
 ],
 "metadata": {
  "kernelspec": {
   "display_name": "Python 3.11.0 64-bit",
   "language": "python",
   "name": "python3"
  },
  "language_info": {
   "codemirror_mode": {
    "name": "ipython",
    "version": 3
   },
   "file_extension": ".py",
   "mimetype": "text/x-python",
   "name": "python",
   "nbconvert_exporter": "python",
   "pygments_lexer": "ipython3",
   "version": "3.11.0"
  },
  "orig_nbformat": 4,
  "vscode": {
   "interpreter": {
    "hash": "41cec28fd681075328d5c3ce57c3e36d2e28950cd4b5df3e126fcfc4cca87be8"
   }
  }
 },
 "nbformat": 4,
 "nbformat_minor": 2
}
