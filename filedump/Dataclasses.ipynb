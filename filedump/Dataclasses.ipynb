{
 "cells": [
  {
   "cell_type": "markdown",
   "metadata": {},
   "source": [
    "# Dataclasses in Python\n",
    "\n",
    "This tutorial assumes that you already know the basics of [object-oriented programming](https://en.wikipedia.org/wiki/Object-oriented_programming) in general and have a working knowledge of Python. If you are not familiar with object-oriented programming, you should read the tutorial on Python classes first.\n",
    "\n",
    "Useful links: \n",
    "https://realpython.com/python3-object-oriented-programming/\n",
    "\n",
    "\n",
    "## What are dataclasses?\n",
    "\n",
    "Dataclasses are a way to create classes that are lightweight and have a lot of the functionality of a class without the overhead of a class. They are useful for creating classes that are used to store data. They are also useful for creating classes that are used to store data that is used to create other classes. The dataclasses are available through built-in dataclasses module in Python 3.7+.\n"
   ]
  },
  {
   "cell_type": "code",
   "execution_count": 2,
   "metadata": {},
   "outputs": [],
   "source": [
    "from dataclasses import dataclass"
   ]
  },
  {
   "cell_type": "markdown",
   "metadata": {},
   "source": [
    "Let us create a dataclass that represents a bond. This can be achieved as follows:"
   ]
  },
  {
   "cell_type": "code",
   "execution_count": 4,
   "metadata": {},
   "outputs": [],
   "source": [
    "@dataclass\n",
    "class Bond:\n",
    "  \"\"\"\n",
    "  The dataclass that represents a bond.\n",
    "  \n",
    "  ## Parameters:\n",
    "  rate: The rate of interest on the bond.\n",
    "  duration: The duration of the bond.\n",
    "  face_value: The face value of the bond. \n",
    "  \n",
    "  ## Properties:\n",
    "  price: The present value of the future cash flows. \n",
    "  \"\"\"  \n",
    "  rate: float\n",
    "  duration: float\n",
    "  face_value: float\n",
    "  \n",
    "  @property\n",
    "  def price(self) -> float:    \n",
    "    return self.face_value / (1 + self.rate) ** self.duration"
   ]
  },
  {
   "cell_type": "markdown",
   "metadata": {},
   "source": [
    "The property decorator is used to store a computed attribute within a dataclass. The same code logic as above but without the dataclass decorator."
   ]
  },
  {
   "cell_type": "code",
   "execution_count": null,
   "metadata": {},
   "outputs": [],
   "source": [
    "class Bond:\n",
    "  def __init__(self) -> None:\n",
    "    self.rate = 0.0\n",
    "    self.duration = 0.0\n",
    "    self.face_value = 0.0\n",
    "  \n",
    "  def CalculatePresentValue(self) -> None:\n",
    "    self.price = self.face_value / (1 + self.rate) ** self.duration\n",
    "  "
   ]
  },
  {
   "cell_type": "markdown",
   "metadata": {},
   "source": [
    "## Why should you care about dataclasses when you have simpler tabular datastructures like Pandas dataframes?\n",
    "One of the most powerful features with the Python dataclasses are that they support many features of object oriented programming. This would become clearer with the example of mortgages below. Mortgages are also a subclass of bonds, therefore we will simply inherit Bonds into a new dataclass called mortgages."
   ]
  },
  {
   "cell_type": "code",
   "execution_count": 110,
   "metadata": {},
   "outputs": [],
   "source": [
    "@dataclass\n",
    "class Mortgage (Bond):\n",
    "  pass"
   ]
  },
  {
   "cell_type": "markdown",
   "metadata": {},
   "source": [
    "Now you can probably see that we have a structure. We have implemented programmatically that a mortgage is actually a bond and it can also have additional features. Mortgages will also have attributes that are specific to mortgages. We will add the down payment and the monthly payment to the mortgage class. Let us add those features and define the mortgage class again."
   ]
  },
  {
   "cell_type": "code",
   "execution_count": 123,
   "metadata": {},
   "outputs": [],
   "source": [
    "@dataclass\n",
    "class Mortgage(Bond):  \n",
    "  down_payment: float\n",
    "  @property\n",
    "  def monthly_payment(self) -> float:\n",
    "    monthly_rate = self.rate / 12\n",
    "    return (self.face_value - self.down_payment) * monthly_rate / (1 - (1 + monthly_rate) ** (-self.duration * 12)) \n",
    "  # We also need to override the price property. The price of the mortgage is the present value of the monthly payments plus the down payment. This is equal to the face value or the amount borrowed.\n",
    "  @property\n",
    "  def price(self):\n",
    "    return self.face_value"
   ]
  },
  {
   "cell_type": "markdown",
   "metadata": {},
   "source": [
    "Now let us create a mortgage object. Note that we need to supply 4 parameters: the rate, duration, face value and down payment. Three of these parameters are inherited from the Bond class. The down payment is a new parameter that is specific to the Mortgage class. Mortgage class also has an additional property attribute called monthly payment."
   ]
  },
  {
   "cell_type": "code",
   "execution_count": 124,
   "metadata": {},
   "outputs": [
    {
     "data": {
      "text/plain": [
       "429.4572984097118"
      ]
     },
     "execution_count": 124,
     "metadata": {},
     "output_type": "execute_result"
    }
   ],
   "source": [
    "fixed_mortgage = Mortgage(rate=0.05, duration=30, face_value=100000, down_payment=20000)\n",
    "fixed_mortgage.monthly_payment"
   ]
  },
  {
   "cell_type": "markdown",
   "metadata": {},
   "source": [
    "But mortgages can either be fixed rate or floating rate. We will now inherit from mortgage and create a floating rate mortgage. Now you could be probably getting a feel of how powerful dataclasses could be."
   ]
  },
  {
   "cell_type": "code",
   "execution_count": 114,
   "metadata": {},
   "outputs": [],
   "source": [
    "\n",
    "@dataclass\n",
    "class FloatingRateMortgage(Mortgage):  \n",
    "  @property\n",
    "  def monthly_payment(self) -> float:\n",
    "      if(len(self.rate) != self.duration * 12):\n",
    "          raise ValueError(\"The number of monthly rates is not equal to the number of months in the mortgage duration.\")\n",
    "      # Now we will have a list of monthly payments. We will have to calculate the monthly payment for each month based on the monthly rate.\n",
    "      return [(self.face_value - self.down_payment) * (rate/12) / (1 - (1 + (rate/12)) ** (-self.duration * 12)) for rate in self.rate]   \n"
   ]
  },
  {
   "cell_type": "markdown",
   "metadata": {},
   "source": [
    "We will now create a floating rate mortgage object. We will assume that the monthly annualised rate of interest is [uniformly distributed](https://en.wikipedia.org/wiki/Continuous_uniform_distribution) between 4% and 12%. Note that the rate of interest is annualised and this annualised rate changes every month."
   ]
  },
  {
   "cell_type": "code",
   "execution_count": 115,
   "metadata": {},
   "outputs": [
    {
     "data": {
      "text/plain": [
       "[530.9941898888909,\n",
       " 775.2555352740925,\n",
       " 439.5470626720084,\n",
       " 761.7033410945966,\n",
       " 443.19156205169156,\n",
       " 610.4539485787051,\n",
       " 475.38375837483676,\n",
       " 595.064992373187,\n",
       " 507.8541106689975,\n",
       " 471.5091034239094,\n",
       " 547.3519518483176,\n",
       " 390.21903287103135]"
      ]
     },
     "execution_count": 115,
     "metadata": {},
     "output_type": "execute_result"
    }
   ],
   "source": [
    "from numpy.random import uniform\n",
    "floating_mortgage = FloatingRateMortgage(duration=30, face_value=100000, down_payment=20000, rate=uniform(0.04, 0.12, 30*12))\n",
    "floating_mortgage.monthly_payment[0:12] # We will print the first year of monthly payments for sake of brevity."
   ]
  },
  {
   "cell_type": "markdown",
   "metadata": {},
   "source": [
    "In the above example, we assumed that the rate of interest is uniformly distributed between 4% and 12%. This is quite unrealistic, but that is not the point. The point is to show, how powerful and convenient datatclasses can be. We used dataclasses to create a class (eg: Mortgage) that inherits from another class (eg: Bond) and add additional attributes and methods to the inherited class. By the way, you can also use your own interest rates or source the list of interest rates from any API such as FRED. You can also extend this code to create a useful application that would simulate different interest rate environments and show you how the mortgage payments would change or maybe something else (imagination is the limit!). That is the beauty of Python! You can do powerful things with simple and readable tools."
   ]
  },
  {
   "cell_type": "markdown",
   "metadata": {},
   "source": [
    "## Data Wrangling with dataclasses\n",
    "\n",
    "Now let us look at other features that dataclasses provide. Suppose you are a small bank and you have given out 5 housing loans, with amounts of $10000, $50000, $60000, $90000 and $100000 respectively. All of these loans have a fixed interest rate of 5% and and a fixed duration of 30 years. The down payment for each loan is 20% of the loan amount."
   ]
  },
  {
   "cell_type": "code",
   "execution_count": 116,
   "metadata": {},
   "outputs": [
    {
     "data": {
      "text/plain": [
       "[Mortgage(rate=0.05, duration=30, face_value=10000, down_payment=2000.0),\n",
       " Mortgage(rate=0.05, duration=30, face_value=50000, down_payment=10000.0),\n",
       " Mortgage(rate=0.05, duration=30, face_value=60000, down_payment=12000.0),\n",
       " Mortgage(rate=0.05, duration=30, face_value=90000, down_payment=18000.0),\n",
       " Mortgage(rate=0.05, duration=30, face_value=100000, down_payment=20000.0)]"
      ]
     },
     "execution_count": 116,
     "metadata": {},
     "output_type": "execute_result"
    }
   ],
   "source": [
    "loans = [10000, 50000, 60000, 90000, 100000]\n",
    "mortgage_portfolio = [Mortgage(rate=0.05, duration=30, face_value=face_value, down_payment=0.2 * face_value) for face_value in loans]\n",
    "mortgage_portfolio"
   ]
  },
  {
   "cell_type": "markdown",
   "metadata": {},
   "source": [
    "We have created a list of mortgage objects. Suppose we want to filter out the mortgages that have a face value greater than $50,000. Filtering the list of dataclasses is same as filtering any other list."
   ]
  },
  {
   "cell_type": "code",
   "execution_count": 117,
   "metadata": {},
   "outputs": [
    {
     "data": {
      "text/plain": [
       "[Mortgage(rate=0.05, duration=30, face_value=60000, down_payment=12000.0),\n",
       " Mortgage(rate=0.05, duration=30, face_value=90000, down_payment=18000.0),\n",
       " Mortgage(rate=0.05, duration=30, face_value=100000, down_payment=20000.0)]"
      ]
     },
     "execution_count": 117,
     "metadata": {},
     "output_type": "execute_result"
    }
   ],
   "source": [
    "filtered_portfolio = list(filter(lambda loan: loan.face_value > 50000, mortgage_portfolio))\n",
    "filtered_portfolio"
   ]
  },
  {
   "cell_type": "markdown",
   "metadata": {},
   "source": [
    "Or maybe you want to filter only those portfolios that have a monthly payment greater than $100"
   ]
  },
  {
   "cell_type": "code",
   "execution_count": 118,
   "metadata": {},
   "outputs": [
    {
     "data": {
      "text/plain": [
       "[Mortgage(rate=0.05, duration=30, face_value=50000, down_payment=10000.0),\n",
       " Mortgage(rate=0.05, duration=30, face_value=60000, down_payment=12000.0),\n",
       " Mortgage(rate=0.05, duration=30, face_value=90000, down_payment=18000.0),\n",
       " Mortgage(rate=0.05, duration=30, face_value=100000, down_payment=20000.0)]"
      ]
     },
     "execution_count": 118,
     "metadata": {},
     "output_type": "execute_result"
    }
   ],
   "source": [
    "filtered_portfolio = list(filter(lambda loan: loan.monthly_payment > 100, mortgage_portfolio))\n",
    "filtered_portfolio"
   ]
  },
  {
   "cell_type": "markdown",
   "metadata": {},
   "source": [
    "We can also sort dataclasses using the sorted function. We will sort the mortgage portfolio based on the monthly payment in descending order."
   ]
  },
  {
   "cell_type": "code",
   "execution_count": 90,
   "metadata": {},
   "outputs": [
    {
     "data": {
      "text/plain": [
       "[Mortgage(rate=0.05, duration=30, face_value=100000, down_payment=20000.0),\n",
       " Mortgage(rate=0.05, duration=30, face_value=90000, down_payment=18000.0),\n",
       " Mortgage(rate=0.05, duration=30, face_value=60000, down_payment=12000.0),\n",
       " Mortgage(rate=0.05, duration=30, face_value=50000, down_payment=10000.0),\n",
       " Mortgage(rate=0.05, duration=30, face_value=10000, down_payment=2000.0)]"
      ]
     },
     "execution_count": 90,
     "metadata": {},
     "output_type": "execute_result"
    }
   ],
   "source": [
    "sorted_portfolio = sorted(mortgage_portfolio, key=lambda loan: loan.monthly_payment, reverse=True)\n",
    "sorted_portfolio"
   ]
  },
  {
   "cell_type": "markdown",
   "metadata": {},
   "source": [
    "Anything that you can do with python lists, you can do with the list of dataclasses. For example, we can use the map function to add an attribute of amortization schedule to each mortgage object in the portfolio.\n",
    "\n",
    "Let us define a function that will calculate the amortization schedule for a mortgage."
   ]
  },
  {
   "cell_type": "code",
   "execution_count": 119,
   "metadata": {},
   "outputs": [],
   "source": [
    "def CalculateAmortizationSchedule(mortgage: Mortgage) -> list[dict]:\n",
    "  monthly_rate = mortgage.rate / 12\n",
    "  monthly_payment = mortgage.monthly_payment\n",
    "  balance = mortgage.face_value - mortgage.down_payment\n",
    "  amortization_schedule = []\n",
    "  for i in range(0, mortgage.duration * 12):\n",
    "    interest = balance * monthly_rate\n",
    "    principal = monthly_payment - interest\n",
    "    balance = balance - principal\n",
    "    amortization_schedule.append({\"period\": i+1, \"interest\":interest, \"principal\": principal, \"unpaid_balance\":balance})\n",
    "  return amortization_schedule"
   ]
  },
  {
   "cell_type": "markdown",
   "metadata": {},
   "source": [
    "Now let us use the map function to add the amortization schedule to each mortgage object in the portfolio."
   ]
  },
  {
   "cell_type": "code",
   "execution_count": 120,
   "metadata": {},
   "outputs": [
    {
     "data": {
      "text/plain": [
       "[{'period': 1,\n",
       "  'interest': 33.333333333333336,\n",
       "  'principal': 9.612396507637854,\n",
       "  'unpaid_balance': 7990.387603492362},\n",
       " {'period': 2,\n",
       "  'interest': 33.293281681218176,\n",
       "  'principal': 9.652448159753014,\n",
       "  'unpaid_balance': 7980.73515533261},\n",
       " {'period': 3,\n",
       "  'interest': 33.25306314721921,\n",
       "  'principal': 9.692666693751981,\n",
       "  'unpaid_balance': 7971.042488638858},\n",
       " {'period': 4,\n",
       "  'interest': 33.21267703599524,\n",
       "  'principal': 9.733052804975948,\n",
       "  'unpaid_balance': 7961.309435833882}]"
      ]
     },
     "execution_count": 120,
     "metadata": {},
     "output_type": "execute_result"
    }
   ],
   "source": [
    "for mortgage in mortgage_portfolio:\n",
    "  mortgage.amortization_schedule = CalculateAmortizationSchedule(mortgage)\n",
    "mortgage_portfolio[0].amortization_schedule[0:4] # We will print the first four months of the amortization schedule for the first mortgage in the portfolio."
   ]
  },
  {
   "cell_type": "code",
   "execution_count": 121,
   "metadata": {},
   "outputs": [
    {
     "data": {
      "image/png": "[encoded data removed]",
      "text/plain": [
       "<Figure size 640x480 with 1 Axes>"
      ]
     },
     "metadata": {},
     "output_type": "display_data"
    }
   ],
   "source": [
    "import matplotlib.pyplot as plt\n",
    "schedule_plots = [plt.plot([schedule[\"period\"] for schedule in mortgage.amortization_schedule], [schedule[\"unpaid_balance\"] for schedule in mortgage.amortization_schedule], label=f\"Loan {i+1}\") for i, mortgage in enumerate(mortgage_portfolio)]\n",
    "plt.title(\"Amortization Schedule for all the loans in the portfolio\")\n",
    "plt.xlabel(\"Months\")\n",
    "plt.ylabel(\"Unpaid Balance\")\n",
    "plt.legend()\n",
    "plt.show()"
   ]
  },
  {
   "cell_type": "markdown",
   "metadata": {},
   "source": [
    "## Some disadvantages\n",
    "\n",
    "There are multiple ways to achieve the same thing in Python. Dataclasses are useful but are not a substitute for pandas dataframes. Dataclasses do not have many out-of-the-box features as pandas dataframes provide such as rich support for date-time libraries and plotting. If the data makes more sense in a tabular format, then pandas dataframes are the way to go. For example, if you need time-series features like moving averages, differencing, etc., then do not use dataclasses, unless you are willing to write the code to implement these features.\n",
    "\n",
    "However, dataclasses are useful when we want to create a simple data structure that is easy to understand and maintain. \n",
    "\n"
   ]
  },
  {
   "cell_type": "markdown",
   "metadata": {},
   "source": []
  }
 ],
 "metadata": {
  "kernelspec": {
   "display_name": "Python 3.11.0 64-bit",
   "language": "python",
   "name": "python3"
  },
  "language_info": {
   "codemirror_mode": {
    "name": "ipython",
    "version": 3
   },
   "file_extension": ".py",
   "mimetype": "text/x-python",
   "name": "python",
   "nbconvert_exporter": "python",
   "pygments_lexer": "ipython3",
   "version": "3.11.0"
  },
  "orig_nbformat": 4,
  "vscode": {
   "interpreter": {
    "hash": "41cec28fd681075328d5c3ce57c3e36d2e28950cd4b5df3e126fcfc4cca87be8"
   }
  }
 },
 "nbformat": 4,
 "nbformat_minor": 2
}
