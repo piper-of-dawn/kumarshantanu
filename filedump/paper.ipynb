{
 "cells": [
  {
   "cell_type": "markdown",
   "metadata": {},
   "source": [
    "## Citations\n",
    "1. \"THE SELECT SECTOR SPDR® TRUST.\" Https://www.Sec.Gov/, 30 Sept. 2017, www.sec.gov/. Accessed 5 Feb. 2023.\n",
    "2. Reichel, L. (n.d.). Random Vectors and the Variance–Covariance Matrix. Retrieved February 7, 2023, from http://www.math.kent.edu/~reichel/courses/monte.carlo/alt4.7d.pdf"
   ]
  },
  {
   "cell_type": "markdown",
   "metadata": {},
   "source": [
    "q: What are select sectors of SP500?\n",
    "a: "
   ]
  },
  {
   "cell_type": "markdown",
   "metadata": {},
   "source": []
  }
 ],
 "metadata": {
  "kernelspec": {
   "display_name": "Python 3.11.0 64-bit",
   "language": "python",
   "name": "python3"
  },
  "language_info": {
   "name": "python",
   "version": "3.11.0"
  },
  "orig_nbformat": 4,
  "vscode": {
   "interpreter": {
    "hash": "41cec28fd681075328d5c3ce57c3e36d2e28950cd4b5df3e126fcfc4cca87be8"
   }
  }
 },
 "nbformat": 4,
 "nbformat_minor": 2
}
